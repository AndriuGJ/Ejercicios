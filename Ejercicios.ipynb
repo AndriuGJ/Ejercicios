{
  "nbformat": 4,
  "nbformat_minor": 0,
  "metadata": {
    "colab": {
      "provenance": [],
      "authorship_tag": "ABX9TyMkZmXZUGzAOrsC+pwzYiXe",
      "include_colab_link": true
    },
    "kernelspec": {
      "name": "python3",
      "display_name": "Python 3"
    },
    "language_info": {
      "name": "python"
    }
  },
  "cells": [
    {
      "cell_type": "markdown",
      "metadata": {
        "id": "view-in-github",
        "colab_type": "text"
      },
      "source": [
        "<a href=\"https://colab.research.google.com/github/AndriuGJ/Ejercicios/blob/main/Ejercicios.ipynb\" target=\"_parent\"><img src=\"https://colab.research.google.com/assets/colab-badge.svg\" alt=\"Open In Colab\"/></a>"
      ]
    },
    {
      "cell_type": "code",
      "execution_count": null,
      "metadata": {
        "id": "mPmcECxEJAFI"
      },
      "outputs": [],
      "source": []
    },
    {
      "cell_type": "markdown",
      "source": [
        "EJERCICIO 1"
      ],
      "metadata": {
        "id": "8xCG6o31JqNn"
      }
    },
    {
      "cell_type": "code",
      "source": [
        "#Mostrar asignaturas en la pantalla y guardarlas\n",
        "import numpy as np\n",
        "asignaturas = np.array(['Matemáticas', 'Física', 'Química', 'Historia', 'Lengua'])\n",
        "np.savetxt('Ejercicio_1.txt', asignaturas, fmt='%s')\n",
        "print(asignaturas)"
      ],
      "metadata": {
        "colab": {
          "base_uri": "https://localhost:8080/"
        },
        "id": "upSh2K9hJvjn",
        "outputId": "d45db094-1b8d-4665-ce23-3d738861ada6"
      },
      "execution_count": 2,
      "outputs": [
        {
          "output_type": "stream",
          "name": "stdout",
          "text": [
            "['Matemáticas' 'Física' 'Química' 'Historia' 'Lengua']\n"
          ]
        }
      ]
    },
    {
      "cell_type": "markdown",
      "source": [
        "EJERCICIO 2"
      ],
      "metadata": {
        "id": "4i0_L2TVKt6t"
      }
    },
    {
      "cell_type": "code",
      "source": [
        "#Mostrar asignaturas y mostrar uno aleatoriamente\n",
        "asignaturas = np.array(['Matemáticas', 'Física', 'Química', 'Historia', 'Lengua'])\n",
        "mensaje = (\"Yo estudio en: \", asignaturas[np.random.randint(5)])\n",
        "np.savetxt('Ejercicio_2.txt', mensaje, fmt='%s')"
      ],
      "metadata": {
        "id": "FohZA_VSKjs2"
      },
      "execution_count": 3,
      "outputs": []
    },
    {
      "cell_type": "markdown",
      "source": [
        "EJERCICIO 3"
      ],
      "metadata": {
        "id": "lI7V4lIVN2VW"
      }
    },
    {
      "cell_type": "code",
      "source": [
        "#Mostrar las asignaturas y pedir cuanto saco en cada uno y almacenarlo\n",
        "asignaturas = np.array(['Matemáticas', 'Física', 'Química', 'Historia', 'Lengua'])\n",
        "notas= np.array([])\n",
        "for i in range(5):\n",
        "  nota = input(\"¿Qué nota has sacado en \" + asignaturas[i] + \"?\")\n",
        "  notas = np.append(notas, nota)\n",
        "np.savetxt('Ejercicio_3.txt', notas, fmt='%s')"
      ],
      "metadata": {
        "colab": {
          "base_uri": "https://localhost:8080/"
        },
        "id": "gozF28mCN7oO",
        "outputId": "1664bc36-23a4-4430-e242-dff08491d945"
      },
      "execution_count": 4,
      "outputs": [
        {
          "name": "stdout",
          "output_type": "stream",
          "text": [
            "¿Qué nota has sacado en Matemáticas?12\n",
            "¿Qué nota has sacado en Física?18\n",
            "¿Qué nota has sacado en Química?17\n",
            "¿Qué nota has sacado en Historia?11\n",
            "¿Qué nota has sacado en Lengua?20\n"
          ]
        }
      ]
    },
    {
      "cell_type": "markdown",
      "source": [
        "EJERCICIO 4"
      ],
      "metadata": {
        "id": "BDSvNBDdRlju"
      }
    },
    {
      "cell_type": "code",
      "source": [
        "1#Pedir numeros y mostralos de menor a menor\n",
        "num_ganadores = np.array([])\n",
        "for i in range(3):\n",
        "  num_ganador = int(input(\"¿Número ganador? \"))\n",
        "  num_ganadores = np.append(num_ganadores, num_ganador)\n",
        "  num_ganadores = np.sort(num_ganadores)\n",
        "print(num_ganadores)\n",
        "np.savetxt('Ejercicio_4.txt', num_ganadores, fmt='%s')"
      ],
      "metadata": {
        "colab": {
          "base_uri": "https://localhost:8080/"
        },
        "id": "7Xl_5p6iRn5e",
        "outputId": "73b3e8b8-eb92-4c66-b1b2-49979c20f9ab"
      },
      "execution_count": 5,
      "outputs": [
        {
          "output_type": "stream",
          "name": "stdout",
          "text": [
            "¿Número ganador? 3\n",
            "¿Número ganador? 10\n",
            "¿Número ganador? 2\n",
            "[ 2.  3. 10.]\n"
          ]
        }
      ]
    },
    {
      "cell_type": "markdown",
      "source": [
        "EJERCICIO 5"
      ],
      "metadata": {
        "id": "mvCmkQpFTkAd"
      }
    },
    {
      "cell_type": "code",
      "metadata": {
        "colab": {
          "base_uri": "https://localhost:8080/"
        },
        "id": "dbdeb5bc",
        "outputId": "0ff42076-fc12-44be-d8ff-9b674d34ea87"
      },
      "source": [
        "array = np.arange(1, 11)\n",
        "reverso_array = array[::-1]\n",
        "print(reverso_array)\n",
        "np.savetxt('Ejercicio_5.txt', reverso_array, delimiter=\",\", fmt='%s')"
      ],
      "execution_count": 6,
      "outputs": [
        {
          "output_type": "stream",
          "name": "stdout",
          "text": [
            "[10  9  8  7  6  5  4  3  2  1]\n"
          ]
        }
      ]
    },
    {
      "cell_type": "markdown",
      "source": [
        "EJERCICIO 6"
      ],
      "metadata": {
        "id": "CBdp-_qOU_lE"
      }
    },
    {
      "cell_type": "code",
      "source": [
        "asignaturas = np.array(['Matemáticas', 'Física', 'Química', 'Historia', 'Lengua'])\n",
        "asignaturas_a_repetir = []\n",
        "\n",
        "for i in range(5):\n",
        "  nota = int(input(\"¿Qué nota has sacado en \" + asignaturas[i] + \"?\"))\n",
        "  if(nota <= 11):\n",
        "    asignaturas_a_repetir.append(asignaturas[i])\n",
        "\n",
        "print(\"Asignaturas a repetir:\")\n",
        "print(asignaturas_a_repetir)\n",
        "np.savetxt('Ejercicio_6.txt', asignaturas_a_repetir, fmt='%s')"
      ],
      "metadata": {
        "colab": {
          "base_uri": "https://localhost:8080/"
        },
        "id": "uF26de_EXd11",
        "outputId": "d4ff7f2f-b8ff-4b4f-ef4f-1cde9db455ac"
      },
      "execution_count": 7,
      "outputs": [
        {
          "output_type": "stream",
          "name": "stdout",
          "text": [
            "¿Qué nota has sacado en Matemáticas?11\n",
            "¿Qué nota has sacado en Física?8\n",
            "¿Qué nota has sacado en Química?5\n",
            "¿Qué nota has sacado en Historia?10\n",
            "¿Qué nota has sacado en Lengua?15\n",
            "Asignaturas a repetir:\n",
            "[np.str_('Matemáticas'), np.str_('Física'), np.str_('Química'), np.str_('Historia')]\n"
          ]
        }
      ]
    },
    {
      "cell_type": "markdown",
      "source": [
        "EJERCICIO 7"
      ],
      "metadata": {
        "id": "J7N2ICVlZQlM"
      }
    },
    {
      "cell_type": "code",
      "source": [
        "import string\n",
        "abecedario = list(string.ascii_lowercase)\n",
        "abecedario_filtrado = []\n",
        "for i in range(len(abecedario)):\n",
        "  if (i + 1) % 3 != 0:\n",
        "    abecedario_filtrado.append(abecedario[i])\n",
        "abecedario_filtrado\n",
        "print(abecedario_filtrado)\n",
        "np.savetxt('Ejercicio_7.txt', abecedario_filtrado, fmt='%s')"
      ],
      "metadata": {
        "colab": {
          "base_uri": "https://localhost:8080/"
        },
        "id": "BJIOetzqZTPU",
        "outputId": "30f9822d-c572-4157-a8ad-8a98bd1a2d48"
      },
      "execution_count": 8,
      "outputs": [
        {
          "output_type": "stream",
          "name": "stdout",
          "text": [
            "['a', 'b', 'd', 'e', 'g', 'h', 'j', 'k', 'm', 'n', 'p', 'q', 's', 't', 'v', 'w', 'y', 'z']\n"
          ]
        }
      ]
    },
    {
      "cell_type": "markdown",
      "source": [
        "EJERCICIO 8"
      ],
      "metadata": {
        "id": "MX01cMf4Z7nk"
      }
    },
    {
      "cell_type": "code",
      "metadata": {
        "colab": {
          "base_uri": "https://localhost:8080/"
        },
        "id": "8a8066a4",
        "outputId": "28cb0a15-66ee-4bdd-f314-cd6b71fc9ef7"
      },
      "source": [
        "palabra = input(\"Ingresa una palabra para verificar si es un palíndromo: \")\n",
        "palabra_limpia = palabra.replace(\" \", \"\").lower()\n",
        "palabra_invertida = palabra_limpia[::-1]\n",
        "if palabra_limpia == palabra_invertida:\n",
        "  print(f\"'{palabra}' es un palíndromo.\")\n",
        "else:\n",
        "  print(f\"'{palabra}' no es un palíndromo.\")\n",
        "palabra_array = np.array([palabra])\n",
        "np.savetxt('Ejercicio_8.txt', palabra_array, fmt='%s')"
      ],
      "execution_count": 9,
      "outputs": [
        {
          "output_type": "stream",
          "name": "stdout",
          "text": [
            "Ingresa una palabra para verificar si es un palíndromo: Ana\n",
            "'Ana' es un palíndromo.\n"
          ]
        }
      ]
    },
    {
      "cell_type": "markdown",
      "source": [
        "EJERCICIO 9"
      ],
      "metadata": {
        "id": "MH9erDjbItDg"
      }
    },
    {
      "cell_type": "code",
      "source": [
        "#Buscar la cantidad de vocales que tiene una palabra usando numpy as np\n",
        "palabra = input(\"Ingresa una palabra: \")\n",
        "palabra_array = np.array(list(palabra))\n",
        "vocales = np.array(['a', 'e', 'i', 'o', 'u'])\n",
        "vocales_encontradas = np.array([])\n",
        "for i in range(len(palabra_array)):\n",
        "  for j in range(len(vocales)):\n",
        "    if palabra_array[i] == vocales[j]:\n",
        "      vocales_encontradas = np.append(vocales_encontradas, vocales[j])\n",
        "print(f\"La palabra '{palabra}' tiene {len(vocales_encontradas)} vocales.\")\n",
        "np.savetxt('Ejercicio_9.txt', vocales_encontradas, fmt='%s')\n"
      ],
      "metadata": {
        "colab": {
          "base_uri": "https://localhost:8080/"
        },
        "id": "f-0FPptlIzES",
        "outputId": "aaf8d529-9149-4a0f-f30c-6a9a5b058fb6"
      },
      "execution_count": 11,
      "outputs": [
        {
          "output_type": "stream",
          "name": "stdout",
          "text": [
            "Ingresa una palabra: Andriu\n",
            "La palabra 'Andriu' tiene 2 vocales.\n"
          ]
        }
      ]
    },
    {
      "cell_type": "markdown",
      "source": [
        "EJERCICIO 10"
      ],
      "metadata": {
        "id": "zi0YzBcmNMea"
      }
    },
    {
      "cell_type": "code",
      "source": [
        "#Escribir un programa que almacene en una lista los siguientes precios, 50, 75, 46, 22, 80, 65, 8, y\n",
        "#muestre por pantalla el menor y el mayor de los precios.\n",
        "precios = np.array([50, 75, 46, 22, 80, 65, 8])\n",
        "print(f\"El precio más barato es {np.min(precios)} y el más caro es {np.max(precios)}.\")\n",
        "np.savetxt('Ejercicio_10.txt', precios, fmt='%s')"
      ],
      "metadata": {
        "colab": {
          "base_uri": "https://localhost:8080/"
        },
        "id": "Mxr7O_cNNP5I",
        "outputId": "b1d6e65a-d5f0-4982-94dc-e993080e6bc2"
      },
      "execution_count": 12,
      "outputs": [
        {
          "output_type": "stream",
          "name": "stdout",
          "text": [
            "El precio más barato es 8 y el más caro es 80.\n"
          ]
        }
      ]
    },
    {
      "cell_type": "markdown",
      "source": [
        "EJERCICIO 11"
      ],
      "metadata": {
        "id": "oN-xTyLcON_s"
      }
    },
    {
      "cell_type": "code",
      "source": [
        "#Escribir un programa que almacene los vectores (1,2,3) y (-1,0,2) en dos listas y muestre por\n",
        "#pantalla su producto escalar.\n",
        "import numpy as np # Import numpy\n",
        "vector1 = np.array([1, 2, 3])\n",
        "vector2 = np.array([-1, 0, 2])\n",
        "producto_escalar = np.dot(vector1, vector2)\n",
        "print(f\"El producto escalar de los vectores {vector1} y {vector2} es {producto_escalar}.\")\n",
        "np.savetxt('Ejercicio_11.txt', [producto_escalar], fmt='%s') # Save as a 1D array"
      ],
      "metadata": {
        "colab": {
          "base_uri": "https://localhost:8080/"
        },
        "id": "a0bGKrJqOP4O",
        "outputId": "7fb2febf-f452-49b7-cec1-b11bb0234020"
      },
      "execution_count": 14,
      "outputs": [
        {
          "output_type": "stream",
          "name": "stdout",
          "text": [
            "El producto escalar de los vectores [1 2 3] y [-1  0  2] es 5.\n"
          ]
        }
      ]
    },
    {
      "cell_type": "markdown",
      "source": [
        "EJERCICIO 12"
      ],
      "metadata": {
        "id": "Bv6sKSyEO0Bd"
      }
    },
    {
      "cell_type": "code",
      "source": [
        "#Escribir un programa que almacene las matrices en una lista y muestre por pantalla su producto.\n",
        "#Nota: Para representar matrices mediante listas usar listas anidadas, representando cada vector\n",
        "#fila en una lista.\n",
        "matriz1 = np.array([[1, 2, 3], [4, 5, 6]])\n",
        "matriz2 = np.array([[2, 0], [1, 2], [3, 4]])\n",
        "producto_matrices = np.dot(matriz1, matriz2)\n",
        "print(f\"El producto de las matrices {matriz1} y {matriz2} es {producto_matrices}.\")\n",
        "np.savetxt('Ejercicio_12.txt', producto_matrices, fmt='%s')"
      ],
      "metadata": {
        "colab": {
          "base_uri": "https://localhost:8080/"
        },
        "id": "K4JaYy2DO3Jq",
        "outputId": "8311298b-86d6-4b06-adad-6dc1df325a92"
      },
      "execution_count": 15,
      "outputs": [
        {
          "output_type": "stream",
          "name": "stdout",
          "text": [
            "El producto de las matrices [[1 2 3]\n",
            " [4 5 6]] y [[2 0]\n",
            " [1 2]\n",
            " [3 4]] es [[13 16]\n",
            " [31 34]].\n"
          ]
        }
      ]
    },
    {
      "cell_type": "markdown",
      "source": [
        "EJERCICIO 13"
      ],
      "metadata": {
        "id": "Y8QejSS2Qc8J"
      }
    },
    {
      "cell_type": "code",
      "source": [
        "#Escribir un programa que pregunte por una muestra de números, separados por comas, los guarde\n",
        "#en una lista y muestre por pantalla su media y desviación típica\n"
      ],
      "metadata": {
        "id": "otgkf7QnQe_a"
      },
      "execution_count": null,
      "outputs": []
    },
    {
      "cell_type": "code",
      "metadata": {
        "colab": {
          "base_uri": "https://localhost:8080/"
        },
        "id": "bf664903",
        "outputId": "202b9f7e-4388-4c2c-c4bc-97b6ee6f0ce0"
      },
      "source": [
        "numeros_str = input(\"Ingresa una muestra de números separados por comas: \")\n",
        "numeros_lista = [float(num.strip()) for num in numeros_str.split(',')]\n",
        "numeros_array = np.array(numeros_lista)\n",
        "\n",
        "media = np.mean(numeros_array)\n",
        "desviacion_tipica = np.std(numeros_array)\n",
        "\n",
        "print(f\"La media de los números es: {media}\")\n",
        "print(f\"La desviación típica de los números es: {desviacion_tipica}\")\n",
        "np.savetxt('Ejercicio_13.txt', [media, desviacion_tipica], fmt='%s')"
      ],
      "execution_count": 16,
      "outputs": [
        {
          "output_type": "stream",
          "name": "stdout",
          "text": [
            "Ingresa una muestra de números separados por comas: 1,23,4,5,6,8\n",
            "La media de los números es: 7.833333333333333\n",
            "La desviación típica de los números es: 7.104380495315705\n"
          ]
        }
      ]
    }
  ]
}