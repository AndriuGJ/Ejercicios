{
  "nbformat": 4,
  "nbformat_minor": 0,
  "metadata": {
    "colab": {
      "provenance": [],
      "authorship_tag": "ABX9TyP4CEBJU7SK4ppDE68xNJpm",
      "include_colab_link": true
    },
    "kernelspec": {
      "name": "python3",
      "display_name": "Python 3"
    },
    "language_info": {
      "name": "python"
    }
  },
  "cells": [
    {
      "cell_type": "markdown",
      "metadata": {
        "id": "view-in-github",
        "colab_type": "text"
      },
      "source": [
        "<a href=\"https://colab.research.google.com/github/AndriuGJ/Ejercicios/blob/main/Ejercicios.ipynb\" target=\"_parent\"><img src=\"https://colab.research.google.com/assets/colab-badge.svg\" alt=\"Open In Colab\"/></a>"
      ]
    },
    {
      "cell_type": "code",
      "execution_count": null,
      "metadata": {
        "id": "mPmcECxEJAFI"
      },
      "outputs": [],
      "source": []
    },
    {
      "cell_type": "markdown",
      "source": [
        "EJERCICIO 1"
      ],
      "metadata": {
        "id": "8xCG6o31JqNn"
      }
    },
    {
      "cell_type": "code",
      "source": [
        "#Mostrar asignaturas en la pantalla y guardarlas\n",
        "import numpy as np\n",
        "asignaturas = np.array(['Matemáticas', 'Física', 'Química', 'Historia', 'Lengua'])\n",
        "np.savetxt('Ejercicio_1.txt', asignaturas, fmt='%s')\n",
        "print(asignaturas)"
      ],
      "metadata": {
        "colab": {
          "base_uri": "https://localhost:8080/"
        },
        "id": "upSh2K9hJvjn",
        "outputId": "33708504-8183-42b3-fe8c-98e43f57454b"
      },
      "execution_count": 9,
      "outputs": [
        {
          "output_type": "stream",
          "name": "stdout",
          "text": [
            "['Matemáticas' 'Física' 'Química' 'Historia' 'Lengua']\n"
          ]
        }
      ]
    },
    {
      "cell_type": "markdown",
      "source": [
        "EJERCICIO 2"
      ],
      "metadata": {
        "id": "4i0_L2TVKt6t"
      }
    },
    {
      "cell_type": "code",
      "source": [
        "#Mostrar asignaturas y mostrar uno aleatoriamente\n",
        "asignaturas = np.array(['Matemáticas', 'Física', 'Química', 'Historia', 'Lengua'])\n",
        "mensaje = (\"Yo estudio en: \", asignaturas[np.random.randint(5)])\n",
        "np.savetxt('Ejercicio_2.txt', mensaje, fmt='%s')"
      ],
      "metadata": {
        "id": "FohZA_VSKjs2"
      },
      "execution_count": 17,
      "outputs": []
    },
    {
      "cell_type": "markdown",
      "source": [
        "EJERCICIO 3"
      ],
      "metadata": {
        "id": "lI7V4lIVN2VW"
      }
    },
    {
      "cell_type": "code",
      "source": [
        "#Mostrar las asignaturas y pedir cuanto saco en cada uno y almacenarlo\n",
        "asignaturas = np.array(['Matemáticas', 'Física', 'Química', 'Historia', 'Lengua'])\n",
        "notas= np.array([])\n",
        "for i in range(5):\n",
        "  nota = input(\"¿Qué nota has sacado en \" + asignaturas[i] + \"?\")\n",
        "  notas = np.append(notas, nota)\n",
        "np.savetxt('Ejercicio_3.txt', notas, fmt='%s')"
      ],
      "metadata": {
        "colab": {
          "base_uri": "https://localhost:8080/"
        },
        "id": "gozF28mCN7oO",
        "outputId": "d1f2e4f2-6dcb-48bf-adc7-bde086301620"
      },
      "execution_count": 23,
      "outputs": [
        {
          "name": "stdout",
          "output_type": "stream",
          "text": [
            "¿Qué nota has sacado en Matemáticas?12\n",
            "¿Qué nota has sacado en Física?13\n",
            "¿Qué nota has sacado en Química?14\n",
            "¿Qué nota has sacado en Historia?15\n",
            "¿Qué nota has sacado en Lengua?20\n"
          ]
        }
      ]
    },
    {
      "cell_type": "markdown",
      "source": [
        "EJERCICIO 4"
      ],
      "metadata": {
        "id": "BDSvNBDdRlju"
      }
    },
    {
      "cell_type": "code",
      "source": [
        "#Pedir numeros y mostralos de menor a menor\n",
        "num_ganadores = np.array([])\n",
        "for i in range(3):\n",
        "  num_ganador = int(input(\"¿Número ganador? \"))\n",
        "  num_ganadores = np.append(num_ganadores, num_ganador)\n",
        "  num_ganadores = np.sort(num_ganadores)\n",
        "print(num_ganadores)\n",
        "np.savetxt('Ejercicio_4.txt', num_ganadores, fmt='%s')"
      ],
      "metadata": {
        "colab": {
          "base_uri": "https://localhost:8080/"
        },
        "id": "7Xl_5p6iRn5e",
        "outputId": "0d464320-d955-483c-fd7e-c8afaead0835"
      },
      "execution_count": 29,
      "outputs": [
        {
          "output_type": "stream",
          "name": "stdout",
          "text": [
            "¿Número ganador? 1\n",
            "¿Número ganador? 9\n",
            "¿Número ganador? 3\n",
            "[1. 3. 9.]\n"
          ]
        }
      ]
    },
    {
      "cell_type": "markdown",
      "source": [
        "EJERCICIO 5"
      ],
      "metadata": {
        "id": "mvCmkQpFTkAd"
      }
    },
    {
      "cell_type": "code",
      "metadata": {
        "colab": {
          "base_uri": "https://localhost:8080/"
        },
        "id": "dbdeb5bc",
        "outputId": "1161e152-d338-4cdf-9b55-9422a89f231b"
      },
      "source": [
        "array = np.arange(1, 11)\n",
        "reverso_array = array[::-1]\n",
        "print(reverso_array)\n",
        "np.savetxt('Ejercicio_5.txt', reverso_array, delimiter=\",\", fmt='%s')"
      ],
      "execution_count": 36,
      "outputs": [
        {
          "output_type": "stream",
          "name": "stdout",
          "text": [
            "[10  9  8  7  6  5  4  3  2  1]\n"
          ]
        }
      ]
    },
    {
      "cell_type": "markdown",
      "source": [
        "EJERCICIO 6"
      ],
      "metadata": {
        "id": "CBdp-_qOU_lE"
      }
    },
    {
      "cell_type": "code",
      "source": [
        "asignaturas = np.array(['Matemáticas', 'Física', 'Química', 'Historia', 'Lengua'])\n",
        "asignaturas_a_repetir = []\n",
        "\n",
        "for i in range(5):\n",
        "  nota = int(input(\"¿Qué nota has sacado en \" + asignaturas[i] + \"?\"))\n",
        "  if(nota <= 11):\n",
        "    asignaturas_a_repetir.append(asignaturas[i])\n",
        "\n",
        "print(\"Asignaturas a repetir:\")\n",
        "print(asignaturas_a_repetir)\n",
        "np.savetxt('Ejercicio_6.txt', asignaturas_a_repetir, fmt='%s')"
      ],
      "metadata": {
        "colab": {
          "base_uri": "https://localhost:8080/"
        },
        "id": "uF26de_EXd11",
        "outputId": "6997051c-cba3-44ed-fd7a-6d4858f46ed9"
      },
      "execution_count": 46,
      "outputs": [
        {
          "output_type": "stream",
          "name": "stdout",
          "text": [
            "¿Qué nota has sacado en Matemáticas?10\n",
            "¿Qué nota has sacado en Física?10\n",
            "¿Qué nota has sacado en Química?14\n",
            "¿Qué nota has sacado en Historia?11\n",
            "¿Qué nota has sacado en Lengua?15\n",
            "Asignaturas a repetir:\n",
            "[np.str_('Matemáticas'), np.str_('Física'), np.str_('Historia')]\n"
          ]
        }
      ]
    },
    {
      "cell_type": "markdown",
      "source": [
        "EJERCICIO 7"
      ],
      "metadata": {
        "id": "J7N2ICVlZQlM"
      }
    },
    {
      "cell_type": "code",
      "source": [
        "import string\n",
        "abecedario = list(string.ascii_lowercase)\n",
        "abecedario_filtrado = []\n",
        "for i in range(len(abecedario)):\n",
        "  if (i + 1) % 3 != 0:\n",
        "    abecedario_filtrado.append(abecedario[i])\n",
        "abecedario_filtrado\n",
        "print(abecedario_filtrado)\n",
        "np.savetxt('Ejercicio_7.txt', abecedario_filtrado, fmt='%s')"
      ],
      "metadata": {
        "colab": {
          "base_uri": "https://localhost:8080/"
        },
        "id": "BJIOetzqZTPU",
        "outputId": "d601bf97-be11-4e64-812a-5ad23ffb205a"
      },
      "execution_count": 48,
      "outputs": [
        {
          "output_type": "stream",
          "name": "stdout",
          "text": [
            "['a', 'b', 'd', 'e', 'g', 'h', 'j', 'k', 'm', 'n', 'p', 'q', 's', 't', 'v', 'w', 'y', 'z']\n"
          ]
        }
      ]
    },
    {
      "cell_type": "markdown",
      "source": [
        "EJERCICIO 8"
      ],
      "metadata": {
        "id": "MX01cMf4Z7nk"
      }
    },
    {
      "cell_type": "code",
      "metadata": {
        "colab": {
          "base_uri": "https://localhost:8080/"
        },
        "id": "8a8066a4",
        "outputId": "d429943e-8b57-4f7f-e82c-078a3693d4eb"
      },
      "source": [
        "palabra = input(\"Ingresa una palabra para verificar si es un palíndromo: \")\n",
        "palabra_limpia = palabra.replace(\" \", \"\").lower()\n",
        "palabra_invertida = palabra_limpia[::-1]\n",
        "if palabra_limpia == palabra_invertida:\n",
        "  print(f\"'{palabra}' es un palíndromo.\")\n",
        "else:\n",
        "  print(f\"'{palabra}' no es un palíndromo.\")\n",
        "palabra_array = np.array([palabra])\n",
        "np.savetxt('Ejercicio_8.txt', palabra_array, fmt='%s')"
      ],
      "execution_count": 53,
      "outputs": [
        {
          "output_type": "stream",
          "name": "stdout",
          "text": [
            "Ingresa una palabra para verificar si es un palíndromo: Ana\n",
            "'Ana' es un palíndromo.\n"
          ]
        }
      ]
    }
  ]
}